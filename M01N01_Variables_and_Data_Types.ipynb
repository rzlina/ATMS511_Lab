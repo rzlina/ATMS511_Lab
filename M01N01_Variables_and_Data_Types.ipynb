{
  "nbformat": 4,
  "nbformat_minor": 0,
  "metadata": {
    "colab": {
      "name": "M01N01 Variables and Data Types.ipynb",
      "provenance": [],
      "collapsed_sections": [],
      "include_colab_link": true
    },
    "kernelspec": {
      "name": "python3",
      "display_name": "Python 3"
    }
  },
  "cells": [
    {
      "cell_type": "markdown",
      "metadata": {
        "id": "view-in-github",
        "colab_type": "text"
      },
      "source": [
        "<a href=\"https://colab.research.google.com/github/rzlina/ATMS511_Lab/blob/master/M01N01_Variables_and_Data_Types.ipynb\" target=\"_parent\"><img src=\"https://colab.research.google.com/assets/colab-badge.svg\" alt=\"Open In Colab\"/></a>"
      ]
    },
    {
      "cell_type": "markdown",
      "metadata": {
        "id": "yZWgo9tdOaOC",
        "colab_type": "text"
      },
      "source": [
        "<h1>ATMS 305: Data Types</h1>\n",
        "\n",
        "<p>In this notebook session you will ...\n",
        "<ul>\n",
        "<li>Review how to mount your Google Drive into your Colab session.</li>\n",
        " <li>Learn how to use python built-in functions/methods and consult documentation.</li>\n",
        "<li>Learn how to import python packages.</li>\n",
        "<li>Learn about python data types, with emphasis on strings and arrays.</li>\n",
        "\n",
        "</ul>\n",
        "</p>\n",
        "\n",
        "<h2>Part 1: Google Colaboratory and Python Basics</h2>\n",
        "<p>Google Colaboratory works best if you mount your Google Drive folder. This way, you can easily access files stored in Google Drive, and write files to Google Drive. Each notebook that you use should start with the two basic commands below. </p><br>\n",
        "\n",
        "```\n",
        "from google.colab import drive\n",
        "```\n",
        "<br>\n",
        "```\n",
        "drive.mount('/content/drive')\n",
        "```\n",
        "\n",
        "<br><br>\n",
        " \n",
        "<p> <b> Commenting out with #.</b> Below these instructions are two commands that are \"commented out\". This is a critical feature of python. If you do not wish to execute a command, but do not want to erase it for future reference, you can use the hashtag, which denotes the line as commentary.  This is also a nice way to documment what your code does for future reference.\n",
        "</p>\n",
        "<p>The commands that are commented out indicate a way to install non-standard python packages and import them.  For instance, the python package cartopy may be used to plot geospatial data. It is not by default installed in Google Colaboratory notebooks, so you have to install it in order to work with it. </p>\n",
        "\n",
        "<p>Run the cell below by clicking into it, and hitting the 'shift' + 'enter' keys simultaneously. Then click the link produced to sign into Google Drive and receive an authentication key.  You will need to copy this key and insert it in the password box in order to mount your Google Drive folder.</p>\n",
        "\n",
        "<p>Also try to uncomment the section that is commented out and install the cartopy package (which is a mapping package), and import the package.</p>"
      ]
    },
    {
      "cell_type": "code",
      "metadata": {
        "id": "4hzm6M-e9WuV",
        "colab_type": "code",
        "outputId": "706ec7b6-c1ed-421a-9443-23f8f5b8ed95",
        "colab": {
          "base_uri": "https://localhost:8080/",
          "height": 124
        }
      },
      "source": [
        "from google.colab import drive\n",
        "\n",
        "drive.mount('/content/drive')\n",
        "\n",
        "##Install and import cartopy\n",
        "#!apt-get -qq install python-cartopy python3-cartopy\n",
        "#import cartopy\n"
      ],
      "execution_count": 0,
      "outputs": [
        {
          "output_type": "stream",
          "text": [
            "Go to this URL in a browser: https://accounts.google.com/o/oauth2/auth?client_id=947318989803-6bn6qk8qdgf4n4g3pfee6491hc0brc4i.apps.googleusercontent.com&redirect_uri=urn%3Aietf%3Awg%3Aoauth%3A2.0%3Aoob&scope=email%20https%3A%2F%2Fwww.googleapis.com%2Fauth%2Fdocs.test%20https%3A%2F%2Fwww.googleapis.com%2Fauth%2Fdrive%20https%3A%2F%2Fwww.googleapis.com%2Fauth%2Fdrive.photos.readonly%20https%3A%2F%2Fwww.googleapis.com%2Fauth%2Fpeopleapi.readonly&response_type=code\n",
            "\n",
            "Enter your authorization code:\n",
            "··········\n",
            "Mounted at /content/drive\n"
          ],
          "name": "stdout"
        }
      ]
    },
    {
      "cell_type": "code",
      "metadata": {
        "id": "FNS6-cs54YEH",
        "colab_type": "code",
        "colab": {}
      },
      "source": [
        "!ls /content/drive/My\\ Drive"
      ],
      "execution_count": 0,
      "outputs": []
    },
    {
      "cell_type": "markdown",
      "metadata": {
        "id": "uDn9GJ6Tdr0A",
        "colab_type": "text"
      },
      "source": [
        "<h2>Part 2: Python Variables and Data Types</h2>\n",
        "<p>The best part about using a coding language is that you can store any information you want to retrieve as a variable. This seemingly small feat revolutionized science from the 1940s onward. Notice the difference in the definition of variable between mathematics and computer science.</p>\n",
        "\n",
        "<p>From MathInsight - \"A variable is a quantity that may change within the context of a mathematical problem or experiment.\"</p>\n",
        "\n",
        "<p>From Wikipedia - \"In computer programming, a variable [...] is a storage location (identified by a memory address) paired with an associated symbolic name (an identifier), which contains some known or unknown quantity of information referred to as a value.\"</p>\n",
        "\n",
        "<p>The differences are nontrivial, and are sometimes difficult for new programmers to understand. In programming, the variable stores **any kind of information** you want to keep for future reference, or it reserves a location for information that you would like to compute but have not yet done so.  When I emphasize **any kind of information** this is really in reference to a dozen or so python built-in variable types (https://docs.python.org/3/library/stdtypes.html?highlight=numerics) that are related to and/or can be stored in a handful of different python data structures (https://docs.python.org/3/tutorial/datastructures.html?highlight=data%20structure).  (**n.b.** There are more data structures than listed in the python documentation linked above.  Some data structures come with specific python packages, for instance, the numpy ndarray comes with the numpy package.)</p>\n",
        "<p>As you can see, this gets quite complicated, so all you need to start may be found here https://realpython.com/python-data-types/ </p>\n",
        " <p>Let's get back to built-in variable types. We will work with the following python built-in variable types, as well as a few other data structures that will be specific to a variety of python packages.\n",
        "   <ul>\n",
        "<li>None</li>\n",
        "<li>Numerics</li>\n",
        "<ul>\n",
        "<li>Integer</li>\n",
        "<li>Floating point</li>\n",
        "<li>Complex number</li>\n",
        "<li>Boolean</li></ul>\n",
        "<li>Sequences</li>\n",
        "     <ul>\n",
        "       <li>String</li>\n",
        "       <li>List</li>\n",
        "       <li>Range</li>\n",
        "</ul>\n",
        " <li>Mapping</li>\n",
        "     <ul>\n",
        "       <li>Dictonary</li>\n",
        "     </ul>\n",
        " <li>There are more ...</li>\n",
        "</ul>\n",
        "<br>\n",
        "<p> To learn more about python variable types, read here <a href=\"https://realpython.com/python-variables/\">https://realpython.com/python-variables/</a></p>\n",
        "<p>Let's play with these in the code below.</p>"
      ]
    },
    {
      "cell_type": "code",
      "metadata": {
        "id": "DiKDaRx49XjQ",
        "colab_type": "code",
        "outputId": "f1a20b97-67e6-481e-873a-481bbcafdd90",
        "colab": {
          "base_uri": "https://localhost:8080/",
          "height": 228
        }
      },
      "source": [
        "# Press 'shift' + 'enter' keys to run the code below.\n",
        "\n",
        "# None type\n",
        "var0 = None\n",
        "print(var0, type(var0))\n",
        "# Numeric types\n",
        "var1 = 5\n",
        "print(var1, type(var1))\n",
        "var2 = 5.\n",
        "print(var2, type(var2))\n",
        "var3 = 5.0+1j\n",
        "print(var3, type(var3))\n",
        "var4 = True \n",
        "print(var4, type(var4))\n",
        "# Sequence types\n",
        "var5 = 'Hola el Mundo'\n",
        "print(var5, type(var5))\n",
        "var6 = [var1, var2, var3, var4, var5]\n",
        "print(var6, type(var6))\n",
        "var7 = range(10,16,2)\n",
        "print(list(var7),type(var7)) # An iterator object\n",
        "# Mapping type\n",
        "var8 = {'None':var1, 'Float':var2, 'Complex':var3, 'Bool':var4, 'A string':var5, 'List0': var6}\n",
        "print(var8, '\\n', type(var8))\n",
        "# Let's try it\n",
        "var9 = {'Why_not':var8}\n",
        "print(var9, type(var9))"
      ],
      "execution_count": 0,
      "outputs": [
        {
          "output_type": "stream",
          "text": [
            "None <class 'NoneType'>\n",
            "5 <class 'int'>\n",
            "5.0 <class 'float'>\n",
            "(5+1j) <class 'complex'>\n",
            "True <class 'bool'>\n",
            "Hola el Mundo <class 'str'>\n",
            "[5, 5.0, (5+1j), True, 'Hola el Mundo'] <class 'list'>\n",
            "[10, 12, 14] <class 'range'>\n",
            "{'None': 5, 'Float': 5.0, 'Complex': (5+1j), 'Bool': True, 'A string': 'Hola el Mundo', 'List0': [5, 5.0, (5+1j), True, 'Hola el Mundo']} \n",
            " <class 'dict'>\n",
            "{'Why_not': {'None': 5, 'Float': 5.0, 'Complex': (5+1j), 'Bool': True, 'A string': 'Hola el Mundo', 'List0': [5, 5.0, (5+1j), True, 'Hola el Mundo']}} <class 'dict'>\n"
          ],
          "name": "stdout"
        }
      ]
    },
    {
      "cell_type": "code",
      "metadata": {
        "id": "tRig88Fd8cDw",
        "colab_type": "code",
        "outputId": "9496cfe9-af90-46c3-a184-ea24b09a3cfd",
        "colab": {
          "base_uri": "https://localhost:8080/",
          "height": 35
        }
      },
      "source": [
        "var8['Float']"
      ],
      "execution_count": 0,
      "outputs": [
        {
          "output_type": "execute_result",
          "data": {
            "text/plain": [
              "5.0"
            ]
          },
          "metadata": {
            "tags": []
          },
          "execution_count": 6
        }
      ]
    },
    {
      "cell_type": "markdown",
      "metadata": {
        "id": "hYpyCFadb5-c",
        "colab_type": "text"
      },
      "source": [
        "<h2>Part 3. Indexing Sequences and Mappings</h2>\n",
        "<p>Sometimes you want just a piece of a sequence or mapping, or other data structure. There is a general way to go about this in python, and a few things to note. </p>\n",
        "<ol>\n",
        "<li>Python counts starting at zero.</li>\n",
        "<li>If you want a range of list items, you need to count one higher than the last list item you want.  Python reads between the lines.</li>\n",
        "<li>Mappings have keys and values. This syntax is also used in other data structures, such as the numpy structured array and the xarray dataArray.</li>\n",
        "</ol>"
      ]
    },
    {
      "cell_type": "code",
      "metadata": {
        "id": "rgBnFdb_iojB",
        "colab_type": "code",
        "outputId": "2d72c25b-624b-4ba3-ceb5-b1a740f7bf1e",
        "colab": {
          "base_uri": "https://localhost:8080/",
          "height": 173
        }
      },
      "source": [
        "print(var5)\n",
        "print(var5[0:4]) # Python starts at zero.\n",
        "print(var6)\n",
        "print(var6[0]) # See, that's right.\n",
        "print(var6[1:3]) # Python reads between the lines. Here I want the second and third elements of the list. \n",
        "print(var8['None']) # Mappings have keys that you can reference with square brackets and a string.\n",
        "print(var8['A string'][0:4]) # Say hello to indexing a string within a dictionary.\n",
        "print(var8.keys()) # Don't know what all the keys are, then query them.\n",
        "print(var8.values()) # Want all of the values, then say so."
      ],
      "execution_count": 0,
      "outputs": [
        {
          "output_type": "stream",
          "text": [
            "Hola el Mundo\n",
            "Hola\n",
            "[5, 5.0, (5+1j), True, 'Hola el Mundo']\n",
            "5\n",
            "[5.0, (5+1j)]\n",
            "5\n",
            "Hola\n",
            "dict_keys(['None', 'Float', 'Complex', 'Bool', 'A string', 'List0'])\n",
            "dict_values([5, 5.0, (5+1j), True, 'Hola el Mundo', [5, 5.0, (5+1j), True, 'Hola el Mundo']])\n"
          ],
          "name": "stdout"
        }
      ]
    },
    {
      "cell_type": "markdown",
      "metadata": {
        "id": "zp0setBikO0W",
        "colab_type": "text"
      },
      "source": [
        "<h2>Things to try.</h2>\n",
        "<p>Write your code in the code cell below.</p>\n",
        "<ol>\n",
        "<li>Create three new variables; define your own string, list, and dictionary using whatever variable names you like. Variable names should **not start with a number or have the same name as a built-in function, method, etc. such as range, type, print, etc.** If the variable name turns blue in the Google Colaboratory notebook, it is off the table. Your three new variables (two sequences and a mapping) must have at least five items, and your dictionary should have at least one list or string type value. </li>\n",
        "\n",
        "<li>Write the code to pull out the 3rd through the 4th elements of each variable. </li>\n",
        "<li>How do you reference just the first element of a string or list value within your dictionary?</li>\n",
        "</ol>\n",
        "</p>\n",
        "\n"
      ]
    },
    {
      "cell_type": "code",
      "metadata": {
        "id": "udbVO8j6kLiK",
        "colab_type": "code",
        "colab": {}
      },
      "source": [
        "range0 = 'This is a test of the emergency broadcast system.'\n",
        "\n",
        "print3 = ['hello','my','name','is','Alexa']\n",
        "\n",
        "return5 = {'name':'Siri','device':'Apple','Born':2007.,'Sense_of_Humor':None,'Favorite food':'This is about you, not me.'}"
      ],
      "execution_count": 0,
      "outputs": []
    },
    {
      "cell_type": "code",
      "metadata": {
        "id": "unofx1u6An8h",
        "colab_type": "code",
        "outputId": "b3081034-4b46-45d9-8b99-6a6c88c985aa",
        "colab": {
          "base_uri": "https://localhost:8080/",
          "height": 35
        }
      },
      "source": [
        "range0[4:-4]"
      ],
      "execution_count": 0,
      "outputs": [
        {
          "output_type": "execute_result",
          "data": {
            "text/plain": [
              "' is a test of the emergency broadcast sys'"
            ]
          },
          "metadata": {
            "tags": []
          },
          "execution_count": 21
        }
      ]
    },
    {
      "cell_type": "code",
      "metadata": {
        "id": "PPtEjvkQ-_Tb",
        "colab_type": "code",
        "colab": {}
      },
      "source": [
        ""
      ],
      "execution_count": 0,
      "outputs": []
    }
  ]
}