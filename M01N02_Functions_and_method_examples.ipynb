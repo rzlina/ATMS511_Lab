{
  "nbformat": 4,
  "nbformat_minor": 0,
  "metadata": {
    "colab": {
      "name": "M01N02 Functions and method examples.ipynb",
      "provenance": [],
      "include_colab_link": true
    },
    "kernelspec": {
      "name": "python3",
      "display_name": "Python 3"
    }
  },
  "cells": [
    {
      "cell_type": "markdown",
      "metadata": {
        "id": "view-in-github",
        "colab_type": "text"
      },
      "source": [
        "<a href=\"https://colab.research.google.com/github/rzlina/ATMS511_Lab/blob/master/M01N02_Functions_and_method_examples.ipynb\" target=\"_parent\"><img src=\"https://colab.research.google.com/assets/colab-badge.svg\" alt=\"Open In Colab\"/></a>"
      ]
    },
    {
      "cell_type": "markdown",
      "metadata": {
        "id": "nf0iyAlmLHAs",
        "colab_type": "text"
      },
      "source": [
        "# What is the difference between a python function and method?\n",
        "\n",
        "## Python functions:\n",
        "Function is block of code that is called by its name. (independent)\n",
        "* The function can have different parameters or may not have any at all. If any data (parameters) are passed, they are passed explicitly.\n",
        "* It may or may not return any data.\n",
        "* Function does not deal with Class and its instance concept."
      ]
    },
    {
      "cell_type": "code",
      "metadata": {
        "id": "6wv-IDj9KvoI",
        "colab_type": "code",
        "colab": {}
      },
      "source": [
        "def fib2(n):  # return Fibonacci series up to n\n",
        "     \"\"\"Return a list containing the Fibonacci series up to n.\"\"\"\n",
        "     result = []\n",
        "     a, b = 0, 1\n",
        "     while a < n:\n",
        "         result.append(a)    # see below\n",
        "         a, b = b, a+b\n",
        "     return result"
      ],
      "execution_count": 0,
      "outputs": []
    },
    {
      "cell_type": "code",
      "metadata": {
        "id": "J_O3SbnIMbFU",
        "colab_type": "code",
        "outputId": "bb616cb6-81e7-4487-88c2-13e1dd5bb908",
        "colab": {
          "base_uri": "https://localhost:8080/",
          "height": 35
        }
      },
      "source": [
        "fib2"
      ],
      "execution_count": 0,
      "outputs": [
        {
          "output_type": "execute_result",
          "data": {
            "text/plain": [
              "<function __main__.fib2>"
            ]
          },
          "metadata": {
            "tags": []
          },
          "execution_count": 22
        }
      ]
    },
    {
      "cell_type": "code",
      "metadata": {
        "id": "GtFPi9OpK2DM",
        "colab_type": "code",
        "outputId": "030fc3c5-69a7-4970-a958-0e8c7ab94988",
        "colab": {
          "base_uri": "https://localhost:8080/",
          "height": 35
        }
      },
      "source": [
        "fib2(15)"
      ],
      "execution_count": 0,
      "outputs": [
        {
          "output_type": "execute_result",
          "data": {
            "text/plain": [
              "[0, 1, 1, 2, 3, 5, 8, 13]"
            ]
          },
          "metadata": {
            "tags": []
          },
          "execution_count": 17
        }
      ]
    },
    {
      "cell_type": "code",
      "metadata": {
        "id": "8IemxjjMK7yW",
        "colab_type": "code",
        "colab": {}
      },
      "source": [
        "fib_data = fib2(15)"
      ],
      "execution_count": 0,
      "outputs": []
    },
    {
      "cell_type": "code",
      "metadata": {
        "id": "c5x8UzTLLCEg",
        "colab_type": "code",
        "outputId": "1f568cd8-20f2-499a-9768-e27022ab6ce1",
        "colab": {
          "base_uri": "https://localhost:8080/",
          "height": 35
        }
      },
      "source": [
        "fib_data"
      ],
      "execution_count": 0,
      "outputs": [
        {
          "output_type": "execute_result",
          "data": {
            "text/plain": [
              "[0, 1, 1, 2, 3, 5, 8, 13]"
            ]
          },
          "metadata": {
            "tags": []
          },
          "execution_count": 19
        }
      ]
    },
    {
      "cell_type": "markdown",
      "metadata": {
        "id": "ZgOTKgfbL4yY",
        "colab_type": "text"
      },
      "source": [
        "## Python Method\n",
        "\n",
        "Method is called by its name, but it is associated to an object (dependent).\n",
        "* A method is implicitly passed the object on which it is invoked.\n",
        "* It may or may not return any data.\n",
        "* A method can operate on the data (instance variables) that is contained by the corresponding class"
      ]
    },
    {
      "cell_type": "code",
      "metadata": {
        "id": "CLHEpAbGJR0M",
        "colab_type": "code",
        "colab": {}
      },
      "source": [
        "class MyClass:\n",
        "    \"\"\"A simple example class\"\"\"\n",
        "    i = 12345\n",
        "\n",
        "    def f(self):\n",
        "        return 'hello world'"
      ],
      "execution_count": 0,
      "outputs": []
    },
    {
      "cell_type": "code",
      "metadata": {
        "id": "QuGZvXtNMWSN",
        "colab_type": "code",
        "outputId": "a4f46336-93b7-4aef-8ca0-fff5d335d3b9",
        "colab": {
          "base_uri": "https://localhost:8080/",
          "height": 35
        }
      },
      "source": [
        "MyClass"
      ],
      "execution_count": 0,
      "outputs": [
        {
          "output_type": "execute_result",
          "data": {
            "text/plain": [
              "__main__.MyClass"
            ]
          },
          "metadata": {
            "tags": []
          },
          "execution_count": 21
        }
      ]
    },
    {
      "cell_type": "code",
      "metadata": {
        "id": "eQYY5msSJTBx",
        "colab_type": "code",
        "outputId": "2952ade6-8477-46fb-9ee7-9e6d883815a3",
        "colab": {
          "base_uri": "https://localhost:8080/",
          "height": 35
        }
      },
      "source": [
        "x = MyClass()"
      ],
      "execution_count": 0,
      "outputs": [
        {
          "output_type": "execute_result",
          "data": {
            "text/plain": [
              "'hello world'"
            ]
          },
          "metadata": {
            "tags": []
          },
          "execution_count": 7
        }
      ]
    },
    {
      "cell_type": "code",
      "metadata": {
        "id": "BuEzmN7HKONy",
        "colab_type": "code",
        "outputId": "ed7eda6d-8ccb-406b-e6cc-1c4dc85dcfc2",
        "colab": {
          "base_uri": "https://localhost:8080/",
          "height": 35
        }
      },
      "source": [
        "x.i"
      ],
      "execution_count": 0,
      "outputs": [
        {
          "output_type": "execute_result",
          "data": {
            "text/plain": [
              "12345"
            ]
          },
          "metadata": {
            "tags": []
          },
          "execution_count": 13
        }
      ]
    },
    {
      "cell_type": "code",
      "metadata": {
        "id": "9uDZhzDOKQ4U",
        "colab_type": "code",
        "outputId": "c194b48a-bc83-4e44-af0b-4db201444692",
        "colab": {
          "base_uri": "https://localhost:8080/",
          "height": 35
        }
      },
      "source": [
        "x.f()"
      ],
      "execution_count": 0,
      "outputs": [
        {
          "output_type": "execute_result",
          "data": {
            "text/plain": [
              "'hello world'"
            ]
          },
          "metadata": {
            "tags": []
          },
          "execution_count": 14
        }
      ]
    },
    {
      "cell_type": "code",
      "metadata": {
        "id": "ZzbybRC2H5iZ",
        "colab_type": "code",
        "colab": {}
      },
      "source": [
        "class Dog:\n",
        "\n",
        "    def __init__(self, name):  # special function to initialize a method with 'defaults'\n",
        "        self.name = name\n",
        "        self.tricks = []    # creates a new empty list for each dog\n",
        "\n",
        "    def add_trick(self, trick):\n",
        "        self.tricks.append(trick)\n"
      ],
      "execution_count": 0,
      "outputs": []
    },
    {
      "cell_type": "code",
      "metadata": {
        "id": "_HV8WhjIJG46",
        "colab_type": "code",
        "colab": {}
      },
      "source": [
        "d = Dog('Fido')"
      ],
      "execution_count": 0,
      "outputs": []
    },
    {
      "cell_type": "code",
      "metadata": {
        "id": "YcMbVW3gMSoi",
        "colab_type": "code",
        "outputId": "21c6e241-a973-4417-cf47-c1ded06bc448",
        "colab": {
          "base_uri": "https://localhost:8080/",
          "height": 35
        }
      },
      "source": [
        "d"
      ],
      "execution_count": 0,
      "outputs": [
        {
          "output_type": "execute_result",
          "data": {
            "text/plain": [
              "<__main__.Dog at 0x7f816b60f0f0>"
            ]
          },
          "metadata": {
            "tags": []
          },
          "execution_count": 20
        }
      ]
    },
    {
      "cell_type": "code",
      "metadata": {
        "id": "Wvyoz9UgJv6Y",
        "colab_type": "code",
        "colab": {}
      },
      "source": [
        "d.add_trick('play dead')"
      ],
      "execution_count": 0,
      "outputs": []
    },
    {
      "cell_type": "code",
      "metadata": {
        "id": "EdPygnKDJwOq",
        "colab_type": "code",
        "outputId": "edd81151-e57e-4b47-fbbb-062d3ab693f6",
        "colab": {
          "base_uri": "https://localhost:8080/",
          "height": 35
        }
      },
      "source": [
        "d.tricks"
      ],
      "execution_count": 0,
      "outputs": [
        {
          "output_type": "execute_result",
          "data": {
            "text/plain": [
              "['play dead']"
            ]
          },
          "metadata": {
            "tags": []
          },
          "execution_count": 12
        }
      ]
    },
    {
      "cell_type": "code",
      "metadata": {
        "id": "72rJYH-3J9Kq",
        "colab_type": "code",
        "colab": {}
      },
      "source": [
        ""
      ],
      "execution_count": 0,
      "outputs": []
    }
  ]
}