{
  "nbformat": 4,
  "nbformat_minor": 0,
  "metadata": {
    "colab": {
      "name": "PS_01a_Lina_R-Z.ipynb",
      "provenance": [],
      "collapsed_sections": [],
      "include_colab_link": true
    },
    "kernelspec": {
      "name": "python3",
      "display_name": "Python 3"
    }
  },
  "cells": [
    {
      "cell_type": "markdown",
      "metadata": {
        "id": "view-in-github",
        "colab_type": "text"
      },
      "source": [
        "<a href=\"https://colab.research.google.com/github/rzlina/ATMS511_Lab/blob/master/PS_01a_Lina_R_Z.ipynb\" target=\"_parent\"><img src=\"https://colab.research.google.com/assets/colab-badge.svg\" alt=\"Open In Colab\"/></a>"
      ]
    },
    {
      "cell_type": "markdown",
      "metadata": {
        "id": "yZWgo9tdOaOC",
        "colab_type": "text"
      },
      "source": [
        "<h1>ATMS 420/CEE 447: Python Session 1</h1>\n",
        "<h2>Session A: Introduction to Google Colaboratory</h2>\n",
        "<h3>Session Date: Friday, January 18, <br>\n",
        " Due Date: Friday January 25</h3>\n",
        "<p>In this python session you will ...\n",
        "<ul>\n",
        "<li>Learn how to use Google Colaboratory to conduct an interactive python session</li>\n",
        " <li>Learn how to use python built-in functions/methods and consult documentation.</li>\n",
        "<li>Learn how to import python packages.</li>\n",
        "<li>Learn about python data types, with emphasis on strings and arrays.</li>\n",
        "<li>Learn to write functions in python and use functions to perform basic unit conversions useful in Atmospheric Chemistry</li>\n",
        "<li>Learn how to read in ASCII data files with numpy</li>\n",
        "<li>Learn how to create basic plots with matplotlib</li>\n",
        "</ul>\n",
        "</p>\n",
        "\n",
        "<h2>Part 1: Google Colaboratory and Python Basics</h2>\n",
        "<p>Google Colaboratory works best if you mount your Google Drive folder. This way, you can easily access files stored in Google Drive, and write files to Google Drive. Each notebook that you use should start with the two basic commands below. </p><br>\n",
        "\n",
        "```\n",
        "from google.colab import drive\n",
        "```\n",
        "<br>\n",
        "```\n",
        "drive.mount('/content/drive')\n",
        "```\n",
        "\n",
        "<br><br>\n",
        " \n",
        "<p> Below these instructions are two commands that are \"commented out\". This is a critical feature of python. If you do not wish to execute a command, but do not want to erase it for future reference, you can use the hashtag, which denotes the line as commentary.  This is also a nice way to documment what your code does for future reference.\n",
        "</p>\n",
        "<p>The commands that are commented out indicate a way to install non-standard python packages and import them.  For instance, the python package cartopy may be used to plot geospatial data. It is not by default installed in Google Colaboratory notebooks, so you have to install it in order to work with it. </p>\n",
        "\n",
        "<p>Run the cell below by clicking into it, and hitting the 'shift' + 'enter' keys simultaneously. Then click the link produced to sign into Google Drive and receive an authentication key.  You will need to copy this key and insert it in the password box in order to mount your Google Drive folder.</p>\n",
        "\n"
      ]
    },
    {
      "cell_type": "markdown",
      "metadata": {
        "id": "uDn9GJ6Tdr0A",
        "colab_type": "text"
      },
      "source": [
        "<h2>Part 2: Python Variables and Data Types</h2>\n",
        "<p>The best part about using a coding language is that you can store any information you want to retrieve as a variable. This seemingly small feat revolutionized science from the 1940s onward. Notice the difference in the definition of variable between mathematics and computer science.</p>\n",
        "\n",
        "<p>From MathInsight - \"A variable is a quantity that may change within the context of a mathematical problem or experiment.\"</p>\n",
        "\n",
        "<p>From Wikipedia - \"In computer programming, a variable [...] is a storage location (identified by a memory address) paired with an associated symbolic name (an identifier), which contains some known or unknown quantity of information referred to as a value.\"</p>\n",
        "\n",
        "<p>The differences are nontrivial, and are sometimes difficult for new programmers to understand. In programming, the variable stores **any kind of information** you want to keep for future reference, or it reserves a location for information that you would like to compute but have not yet done so.  When I emphasize **any kind of information** this is really in reference to a dozen or so python built-in variable types (https://docs.python.org/3/library/stdtypes.html?highlight=numerics) that are related to and/or can be stored in a handful of different python data structures (https://docs.python.org/3/tutorial/datastructures.html?highlight=data%20structure).  (**n.b.** There are more data structures than listed in the python documentation linked above.  Some data structures come with specific python packages, for instance, the numpy ndarray comes with the numpy package.)</p>\n",
        "<p>As you can see, this gets quite complicated, so all you need to start may be found here https://realpython.com/python-data-types/ </p>\n",
        " <p>Let's get back to built-in variable types. We will work with the following python built-in variable types, as well as a few other data structures that will be specific to a variety of python packages.\n",
        "   <ul>\n",
        "<li>None</li>\n",
        "<li>Numerics</li>\n",
        "<ul>\n",
        "<li>Integer</li>\n",
        "<li>Floating point</li>\n",
        "<li>Complex number</li>\n",
        "<li>Boolean</li></ul>\n",
        "<li>Sequences</li>\n",
        "     <ul>\n",
        "       <li>String</li>\n",
        "       <li>List</li>\n",
        "       <li>Range</li>\n",
        "</ul>\n",
        " <li>Mapping</li>\n",
        "     <ul>\n",
        "       <li>Dictonary</li>\n",
        "     </ul>\n",
        " <li>There are more ...</li>\n",
        "</ul>\n",
        "<br>\n",
        "<p>Let's play with these in the code below.</p>"
      ]
    },
    {
      "cell_type": "code",
      "metadata": {
        "id": "4hzm6M-e9WuV",
        "colab_type": "code",
        "outputId": "ce63b652-248f-4a4f-8899-b218f09fe7a8",
        "colab": {
          "base_uri": "https://localhost:8080/",
          "height": 34
        }
      },
      "source": [
        "from google.colab import drive\n",
        "\n",
        "drive.mount('/content/drive')\n",
        "\n",
        "#!apt-get -qq install python-cartopy python3-cartopy\n",
        "#import cartopy\n"
      ],
      "execution_count": 0,
      "outputs": [
        {
          "output_type": "stream",
          "text": [
            "Drive already mounted at /content/drive; to attempt to forcibly remount, call drive.mount(\"/content/drive\", force_remount=True).\n"
          ],
          "name": "stdout"
        }
      ]
    },
    {
      "cell_type": "code",
      "metadata": {
        "id": "DiKDaRx49XjQ",
        "colab_type": "code",
        "outputId": "bb83f6bf-815e-477d-ad7e-67108087522d",
        "colab": {
          "base_uri": "https://localhost:8080/",
          "height": 204
        }
      },
      "source": [
        "# Press 'shift' + 'enter' keys to run the code below.\n",
        "\n",
        "# None type\n",
        "var0 = None\n",
        "\n",
        "#print(var0, type(var0))\n",
        "print (var0)\n",
        "print (type(var0))\n",
        "# Numeric types\n",
        "var1 = 5\n",
        "print(var1, type(var1))\n",
        "var2 = 5.\n",
        "print(var2, type(var2))\n",
        "var3 = 5.0+1j\n",
        "print(var3, type(var3))\n",
        "var4 = True \n",
        "print(var4, type(var4))\n",
        "# Sequence types\n",
        "var5 = 'Hola el Mundo'\n",
        "print(var5, type(var5))\n",
        "var6 = [var1, var2, var3, var4, var5]\n",
        "print(var6, type(var6))\n",
        "var7 = range(10,16,2)\n",
        "print(list(var7),type(var7)) # An iterator object\n",
        "# Mapping type\n",
        "var8 = {'None':var1, 'Float':var2, 'Complex':var3, 'Bool':var4, 'A string':var5}\n",
        "print(var8, '\\n', type(var8))"
      ],
      "execution_count": 0,
      "outputs": [
        {
          "output_type": "stream",
          "text": [
            "None\n",
            "<class 'NoneType'>\n",
            "5 <class 'int'>\n",
            "5.0 <class 'float'>\n",
            "(5+1j) <class 'complex'>\n",
            "True <class 'bool'>\n",
            "Hola el Mundo <class 'str'>\n",
            "[5, 5.0, (5+1j), True, 'Hola el Mundo'] <class 'list'>\n",
            "[10, 12, 14] <class 'range'>\n",
            "{'None': 5, 'Float': 5.0, 'Complex': (5+1j), 'Bool': True, 'A string': 'Hola el Mundo'} \n",
            " <class 'dict'>\n"
          ],
          "name": "stdout"
        }
      ]
    },
    {
      "cell_type": "markdown",
      "metadata": {
        "id": "Ue4FX6Xrf4kA",
        "colab_type": "text"
      },
      "source": [
        "<h2>Question 1.</h2> In this text cell, write a paragraph about the code above. Be sure to note how you define a variable, how you print the variable to the screen, and what the python builit-in function type() does.\n",
        "\n",
        "A variable stores a value to keep it for reference. For example, to print a variable named \"var\" to the screen: use the comand print (var), or, to print the type of the variable named \"var\" to the screen: use the command print (type(var)). The built-in function type helps you to determine to which basic data type belongs the variable named \"var\". The basic data type showed in the code are: None,  Numeric (Integer, Float, Complex, and Boolean), Sequence (String), and Mapping (Dictionary)\n"
      ]
    },
    {
      "cell_type": "markdown",
      "metadata": {
        "id": "hYpyCFadb5-c",
        "colab_type": "text"
      },
      "source": [
        "<h2>Part 3. Indexing Sequences and Mappings</h2>\n",
        "<p>Sometimes you want just a piece of a sequence or mapping, or other data structure. There is a general way to go about this in python, and a few things to note. </p>\n",
        "<ol>\n",
        "<li>Python counts starting at zero.</li>\n",
        "<li>If you want a range of list items, you need to count one higher than the last list item you want.  Python reads between the lines.</li>\n",
        "<li>Mappings have keys and values. This syntax is also used in other data structures, such as the numpy structured array and the xarray dataArray.</li>\n",
        "</ol>"
      ]
    },
    {
      "cell_type": "code",
      "metadata": {
        "id": "rgBnFdb_iojB",
        "colab_type": "code",
        "outputId": "8df64e9d-d4e4-4373-a57d-393e93cf7237",
        "colab": {
          "base_uri": "https://localhost:8080/",
          "height": 170
        }
      },
      "source": [
        "print(var5)\n",
        "print(var5[1]) # Python starts at zero.\n",
        "print(var6)\n",
        "print(var6[0]) # See, that's right.\n",
        "print(var6[1:3]) # Python reads between the lines. Here I want the second and third elements of the list. \n",
        "print(var8['None']) # Mappings have keys that you can reference with square brackets and a string.\n",
        "print(var8['A string'][0:4]) # Say hello to indexing a string within a dictionary.\n",
        "print(var8.keys()) # Don't know what all the keys are, then query them.\n",
        "print(var8.values()) # Want all of the values, then say so."
      ],
      "execution_count": 0,
      "outputs": [
        {
          "output_type": "stream",
          "text": [
            "Hola el Mundo\n",
            "o\n",
            "[5, 5.0, (5+1j), True, 'Hola el Mundo']\n",
            "5\n",
            "[5.0, (5+1j)]\n",
            "5\n",
            "Hola\n",
            "dict_keys(['None', 'Float', 'Complex', 'Bool', 'A string'])\n",
            "dict_values([5, 5.0, (5+1j), True, 'Hola el Mundo'])\n"
          ],
          "name": "stdout"
        }
      ]
    },
    {
      "cell_type": "code",
      "metadata": {
        "id": "hAUiGNvZepzF",
        "colab_type": "code",
        "outputId": "dd421a69-c117-4ac5-86bd-ec850d04c111",
        "colab": {
          "base_uri": "https://localhost:8080/",
          "height": 34
        }
      },
      "source": [
        "print(var8['A string'][0:4])"
      ],
      "execution_count": 0,
      "outputs": [
        {
          "output_type": "stream",
          "text": [
            "Hola\n"
          ],
          "name": "stdout"
        }
      ]
    },
    {
      "cell_type": "markdown",
      "metadata": {
        "id": "zp0setBikO0W",
        "colab_type": "text"
      },
      "source": [
        "<h2>Question 2.</h2>\n",
        "<p>Write your code in the code cell below.</p>\n",
        "<ol>\n",
        "<li>Create three new variables; define your own string, list, and dictionary using whatever variable names you like. Variable names should **not start with a number or have the same name as a built-in function, method, etc. such as range, type, print, etc.** If the variable name turns blue in the Google Colaboratory notebook, it is off the table. Your three new variables (two sequences and a mapping) must have at least five items, and your dictionary should have at least one list or string type value. </li>\n",
        "\n",
        "<li>Write the code to pull out the 3rd through the 4th elements of each variable. </li>\n",
        "<li>How do you reference just the first element of a string or list value within your dictionary?</li>\n",
        "</ol>\n",
        "</p>\n",
        "\n"
      ]
    },
    {
      "cell_type": "code",
      "metadata": {
        "id": "udbVO8j6kLiK",
        "colab_type": "code",
        "outputId": "a4bdc7fc-3ef9-46a8-a72a-d3a994055607",
        "colab": {
          "base_uri": "https://localhost:8080/",
          "height": 261
        }
      },
      "source": [
        "#1. New variables\n",
        "car = 1\n",
        "ticket = 9.0\n",
        "distance = 3.0+3j\n",
        "transport = range(1,9,3)\n",
        "cars = None\n",
        "bus = False\n",
        "\n",
        "print(car, type(car))\n",
        "print(ticket, type(ticket))\n",
        "print(distance, type(distance))\n",
        "print(transport, type(transport))\n",
        "print (cars, type(cars))\n",
        "print(bus, type(bus))\n",
        "\n",
        "#strings\n",
        "solution = 'Yay! Travelling by car now.'\n",
        "problem = 'Ops! No travelling by car now.'\n",
        "print(solution, type(solution))\n",
        "print(problem, type(problem))\n",
        "\n",
        "#list\n",
        "print(list(transport),type(transport))\n",
        "marketing = [car, ticket, distance, transport, cars, bus, solution, problem]\n",
        "print(marketing,type(marketing))\n",
        "\n",
        "#mapping \n",
        "map = {'None':cars, 'Float':ticket, 'Complex':distance, 'Bool':bus, 'A string':solution, 'A list': marketing}\n",
        "print(map, '\\n', type(map))\n",
        "\n"
      ],
      "execution_count": 0,
      "outputs": [
        {
          "output_type": "stream",
          "text": [
            "1 <class 'int'>\n",
            "9.0 <class 'float'>\n",
            "(3+3j) <class 'complex'>\n",
            "range(1, 9, 3) <class 'range'>\n",
            "None <class 'NoneType'>\n",
            "False <class 'bool'>\n",
            "Yay! Travelling by car now. <class 'str'>\n",
            "Ops! No travelling by car now. <class 'str'>\n",
            "[1, 4, 7] <class 'range'>\n",
            "[1, 9.0, (3+3j), range(1, 9, 3), None, False, 'Yay! Travelling by car now.', 'Ops! No travelling by car now.'] <class 'list'>\n",
            "{'None': None, 'Float': 9.0, 'Complex': (3+3j), 'Bool': False, 'A string': 'Yay! Travelling by car now.', 'A list': [1, 9.0, (3+3j), range(1, 9, 3), None, False, 'Yay! Travelling by car now.', 'Ops! No travelling by car now.']} \n",
            " <class 'dict'>\n"
          ],
          "name": "stdout"
        }
      ]
    },
    {
      "cell_type": "code",
      "metadata": {
        "id": "OBqey4vqszI9",
        "colab_type": "code",
        "outputId": "097b4433-7313-409a-dca0-73a6f7c9d829",
        "colab": {
          "base_uri": "https://localhost:8080/",
          "height": 136
        }
      },
      "source": [
        "#2. Pull out the 3rd through the 4th elements of each variable\n",
        "print(solution[0:18]) # Third through fourth items of the variable\n",
        "print(solution[2:4]) # Third through fourth elements of the variable\n",
        "print(problem[0:18])  # Third through fourth items of the variable\n",
        "print(problem[2:4]) # Third through fourth elements of the variable\n",
        "print(marketing[2:4]) # Third through fourth items of the list\n",
        "print(map['A string'][0:18]) # Third through fourth items of the variable within dictionary\n",
        "print(map['A list'][2:4]) # Third through fourth items of the list within dictionary"
      ],
      "execution_count": 0,
      "outputs": [
        {
          "output_type": "stream",
          "text": [
            "Yay! Travelling by\n",
            "y!\n",
            "Ops! No travelling\n",
            "s!\n",
            "[(3+3j), range(1, 9, 3)]\n",
            "Yay! Travelling by\n",
            "[(3+3j), range(1, 9, 3)]\n"
          ],
          "name": "stdout"
        }
      ]
    },
    {
      "cell_type": "code",
      "metadata": {
        "id": "ztmJiPLbwiyB",
        "colab_type": "code",
        "outputId": "e048eb2b-8070-403b-8fb1-de4f8cc8599d",
        "colab": {
          "base_uri": "https://localhost:8080/",
          "height": 85
        }
      },
      "source": [
        "#3. Reference the first element of a string or list value within your dictionary\n",
        "\n",
        "print(solution[0]) # First element of a string\n",
        "print(marketing[0]) # First element of a list\n",
        "print(map['A string'][0]) # First element of a string within dictionary\n",
        "print(map['A list'][0]) # First element of a list within dictionary"
      ],
      "execution_count": 0,
      "outputs": [
        {
          "output_type": "stream",
          "text": [
            "Y\n",
            "1\n",
            "Y\n",
            "1\n"
          ],
          "name": "stdout"
        }
      ]
    },
    {
      "cell_type": "code",
      "metadata": {
        "id": "BfBmeUDF4Hu3",
        "colab_type": "code",
        "colab": {}
      },
      "source": [
        ""
      ],
      "execution_count": 0,
      "outputs": []
    }
  ]
}