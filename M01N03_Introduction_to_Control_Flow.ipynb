{
  "nbformat": 4,
  "nbformat_minor": 0,
  "metadata": {
    "colab": {
      "name": "M01N03 Introduction to Control Flow.ipynb",
      "provenance": [],
      "collapsed_sections": [
        "xXdvx0KiUNub",
        "Tmf-aTGhUNuf"
      ],
      "include_colab_link": true
    },
    "kernelspec": {
      "display_name": "Python 2",
      "language": "python",
      "name": "python2"
    }
  },
  "cells": [
    {
      "cell_type": "markdown",
      "metadata": {
        "id": "view-in-github",
        "colab_type": "text"
      },
      "source": [
        "<a href=\"https://colab.research.google.com/github/rzlina/ATMS511_Lab/blob/master/M01N03_Introduction_to_Control_Flow.ipynb\" target=\"_parent\"><img src=\"https://colab.research.google.com/assets/colab-badge.svg\" alt=\"Open In Colab\"/></a>"
      ]
    },
    {
      "cell_type": "markdown",
      "metadata": {
        "id": "7gF6q4bCUNt4",
        "colab_type": "text"
      },
      "source": [
        "# Control flow in python"
      ]
    },
    {
      "cell_type": "markdown",
      "metadata": {
        "id": "O4EZHLcIUNt5",
        "colab_type": "text"
      },
      "source": [
        "Adapted from material created by J.R. Johansson (jrjohansson at gmail.com)\n",
        "\n",
        "The latest version of this [IPython notebook](http://ipython.org/notebook.html) lecture is available at [http://github.com/jrjohansson/scientific-python-lectures](http://github.com/jrjohansson/scientific-python-lectures).\n",
        "\n",
        "The other notebooks in this lecture series are indexed at [http://jrjohansson.github.io](http://jrjohansson.github.io)."
      ]
    },
    {
      "cell_type": "markdown",
      "metadata": {
        "id": "e-nFj4sdUNt6",
        "colab_type": "text"
      },
      "source": [
        "## Control Flow"
      ]
    },
    {
      "cell_type": "markdown",
      "metadata": {
        "id": "_eu-0boyUNt7",
        "colab_type": "text"
      },
      "source": [
        "### Conditional statements: if, elif, else"
      ]
    },
    {
      "cell_type": "markdown",
      "metadata": {
        "id": "oIIcvpB5UNt7",
        "colab_type": "text"
      },
      "source": [
        "The Python syntax for conditional execution of code uses the keywords `if`, `elif` (else if), `else`:"
      ]
    },
    {
      "cell_type": "code",
      "metadata": {
        "id": "Ew-K-AAjUNt8",
        "colab_type": "code",
        "colab": {}
      },
      "source": [
        "statement1 = False\n",
        "statement2 = False\n",
        "\n",
        "if statement1:\n",
        "    print(\"statement1 is True\")\n",
        "    \n",
        "elif statement2:\n",
        "    print(\"statement2 is True\")\n",
        "    \n",
        "else:\n",
        "    print(\"statement1 and statement2 are False\")"
      ],
      "execution_count": 0,
      "outputs": []
    },
    {
      "cell_type": "markdown",
      "metadata": {
        "id": "v14d_BVeUNt_",
        "colab_type": "text"
      },
      "source": [
        "For the first time, here we encounted a peculiar and unusual aspect of the Python programming language: Program blocks are defined by their indentation level. \n",
        "\n",
        "Compare to the equivalent C code:\n",
        "\n",
        "    if (statement1)\n",
        "    {\n",
        "        printf(\"statement1 is True\\n\");\n",
        "    }\n",
        "    else if (statement2)\n",
        "    {\n",
        "        printf(\"statement2 is True\\n\");\n",
        "    }\n",
        "    else\n",
        "    {\n",
        "        printf(\"statement1 and statement2 are False\\n\");\n",
        "    }\n",
        "\n",
        "In C blocks are defined by the enclosing curly brakets `{` and `}`. And the level of indentation (white space before the code statements) does not matter (completely optional). \n",
        "\n",
        "But in Python, the extent of a code block is defined by the indentation level (usually a tab or say four white spaces). This means that we have to be careful to indent our code correctly, or else we will get syntax errors. "
      ]
    },
    {
      "cell_type": "markdown",
      "metadata": {
        "id": "C20YDCbkUNt_",
        "colab_type": "text"
      },
      "source": [
        "#### Examples:"
      ]
    },
    {
      "cell_type": "code",
      "metadata": {
        "id": "75KH-GvZUNuA",
        "colab_type": "code",
        "colab": {}
      },
      "source": [
        "statement1 = False\n",
        "statement2 = True\n",
        "\n",
        "if statement1:\n",
        "    \n",
        "    if statement2:\n",
        "      \n",
        "      print(\"both statement1 and statement2 are True\")\n",
        "      \n",
        "    else:\n",
        "      \n",
        "      print('Are you kidding me?')"
      ],
      "execution_count": 0,
      "outputs": []
    },
    {
      "cell_type": "code",
      "metadata": {
        "id": "bvoEQQgmUNuC",
        "colab_type": "code",
        "outputId": "f5c05ad0-9c77-46ad-8865-97cca6b99367",
        "colab": {
          "base_uri": "https://localhost:8080/",
          "height": 136
        }
      },
      "source": [
        "# Bad indentation!\n",
        "if statement1:\n",
        "    if statement2:\n",
        "    print(\"both statement1 and statement2 are True\")  # this line is not properly indented"
      ],
      "execution_count": 0,
      "outputs": [
        {
          "output_type": "error",
          "ename": "IndentationError",
          "evalue": "ignored",
          "traceback": [
            "\u001b[0;36m  File \u001b[0;32m\"<ipython-input-1-ec96008c5121>\"\u001b[0;36m, line \u001b[0;32m3\u001b[0m\n\u001b[0;31m    print(\"both statement1 and statement2 are True\")  # this line is not properly indented\u001b[0m\n\u001b[0m        ^\u001b[0m\n\u001b[0;31mIndentationError\u001b[0m\u001b[0;31m:\u001b[0m expected an indented block\n"
          ]
        }
      ]
    },
    {
      "cell_type": "code",
      "metadata": {
        "id": "U9Aev2kfUNuE",
        "colab_type": "code",
        "colab": {}
      },
      "source": [
        "statement1 = False \n",
        "\n",
        "if statement1:\n",
        "    print(\"printed if statement1 is True\")\n",
        "    \n",
        "    print(\"still inside the if block\")"
      ],
      "execution_count": 0,
      "outputs": []
    },
    {
      "cell_type": "code",
      "metadata": {
        "id": "PAPgqi18UNuG",
        "colab_type": "code",
        "colab": {}
      },
      "source": [
        "if statement1:\n",
        "    print(\"printed if statement1 is True\")\n",
        "    \n",
        "print(\"now outside the if block\")"
      ],
      "execution_count": 0,
      "outputs": []
    },
    {
      "cell_type": "markdown",
      "metadata": {
        "id": "EqzsUl8vUNuJ",
        "colab_type": "text"
      },
      "source": [
        "## Loops"
      ]
    },
    {
      "cell_type": "markdown",
      "metadata": {
        "id": "4o5JbelCUNuK",
        "colab_type": "text"
      },
      "source": [
        "In Python, loops can be programmed in a number of different ways. The most common is the `for` loop, which is used together with iterable objects, such as lists. The basic syntax is:"
      ]
    },
    {
      "cell_type": "markdown",
      "metadata": {
        "id": "RC5WaYI2UNuL",
        "colab_type": "text"
      },
      "source": [
        "### **`for` loops**:"
      ]
    },
    {
      "cell_type": "code",
      "metadata": {
        "id": "uAM2a1P6UNuL",
        "colab_type": "code",
        "colab": {}
      },
      "source": [
        "for x in [1,2,3]:\n",
        "    print(x)"
      ],
      "execution_count": 0,
      "outputs": []
    },
    {
      "cell_type": "markdown",
      "metadata": {
        "id": "9i13-r90UNuP",
        "colab_type": "text"
      },
      "source": [
        "The `for` loop iterates over the elements of the supplied list, and executes the containing block once for each element. Any kind of list can be used in the `for` loop. For example:"
      ]
    },
    {
      "cell_type": "code",
      "metadata": {
        "id": "rtyOD7nZUNuP",
        "colab_type": "code",
        "colab": {}
      },
      "source": [
        "for x in range(4): # by default range start at 0\n",
        "    print(x)"
      ],
      "execution_count": 0,
      "outputs": []
    },
    {
      "cell_type": "markdown",
      "metadata": {
        "id": "YT4g3i72UNuS",
        "colab_type": "text"
      },
      "source": [
        "Note: `range(4)` does not include 4 !"
      ]
    },
    {
      "cell_type": "code",
      "metadata": {
        "id": "tEJrNIptUNuT",
        "colab_type": "code",
        "colab": {}
      },
      "source": [
        "for x in range(-3,3):\n",
        "    print(x)"
      ],
      "execution_count": 0,
      "outputs": []
    },
    {
      "cell_type": "code",
      "metadata": {
        "id": "7Tgl0fkUUNuV",
        "colab_type": "code",
        "colab": {}
      },
      "source": [
        "for word in [\"scientific\", \"computing\", \"with\", \"python\"]:\n",
        "    print(word)"
      ],
      "execution_count": 0,
      "outputs": []
    },
    {
      "cell_type": "markdown",
      "metadata": {
        "id": "C9iRn5fBUNuW",
        "colab_type": "text"
      },
      "source": [
        "To iterate over key-value pairs of a dictionary:"
      ]
    },
    {
      "cell_type": "code",
      "metadata": {
        "id": "txK2F4EibaZi",
        "colab_type": "code",
        "colab": {}
      },
      "source": [
        "params = {\"parameter1\" : 1.0,\n",
        "          \"parameter2\" : 2.0,\n",
        "          \"parameter3\" : 3.0,}"
      ],
      "execution_count": 0,
      "outputs": []
    },
    {
      "cell_type": "code",
      "metadata": {
        "id": "W7V7OXOIUNuX",
        "colab_type": "code",
        "colab": {}
      },
      "source": [
        "for key, value in params.items():\n",
        "    print(key + \" = \" + str(value))"
      ],
      "execution_count": 0,
      "outputs": []
    },
    {
      "cell_type": "markdown",
      "metadata": {
        "id": "7nN62BB3UNuY",
        "colab_type": "text"
      },
      "source": [
        "Sometimes it is useful to have access to the indices of the values when iterating over a list. We can use the `enumerate` function for this:"
      ]
    },
    {
      "cell_type": "code",
      "metadata": {
        "id": "w1cqMGnAUNuZ",
        "colab_type": "code",
        "colab": {}
      },
      "source": [
        "for idx, x in enumerate(range(-3,3)):\n",
        "    print(idx, x)"
      ],
      "execution_count": 0,
      "outputs": []
    },
    {
      "cell_type": "markdown",
      "metadata": {
        "id": "xXdvx0KiUNub",
        "colab_type": "text"
      },
      "source": [
        "### List comprehensions: Creating lists using `for` loops:"
      ]
    },
    {
      "cell_type": "markdown",
      "metadata": {
        "id": "PRO0N2HSUNuc",
        "colab_type": "text"
      },
      "source": [
        "A convenient and compact way to initialize lists:"
      ]
    },
    {
      "cell_type": "code",
      "metadata": {
        "id": "bUVKMZzcUNud",
        "colab_type": "code",
        "colab": {}
      },
      "source": [
        "l1 = [x**2 for x in range(0,5)]\n",
        "\n",
        "print(l1)"
      ],
      "execution_count": 0,
      "outputs": []
    },
    {
      "cell_type": "markdown",
      "metadata": {
        "id": "Tmf-aTGhUNuf",
        "colab_type": "text"
      },
      "source": [
        "### `while` loops:"
      ]
    },
    {
      "cell_type": "code",
      "metadata": {
        "id": "5lbjWEq6UNuf",
        "colab_type": "code",
        "colab": {}
      },
      "source": [
        "i = 0\n",
        "\n",
        "while i < 5:\n",
        "    print(i)\n",
        "    \n",
        "    i = i + 1\n",
        "    \n",
        "print(\"done\")"
      ],
      "execution_count": 0,
      "outputs": []
    },
    {
      "cell_type": "markdown",
      "metadata": {
        "id": "_aEBbbB7UNui",
        "colab_type": "text"
      },
      "source": [
        "Note that the `print(\"done\")` statement is not part of the `while` loop body because of the difference in indentation."
      ]
    },
    {
      "cell_type": "markdown",
      "metadata": {
        "id": "tB1nPSn6UNvY",
        "colab_type": "text"
      },
      "source": [
        "## Want further review?"
      ]
    },
    {
      "cell_type": "markdown",
      "metadata": {
        "id": "w5bIMs-RUNvY",
        "colab_type": "text"
      },
      "source": [
        "Review modules 14-26 at [SoloLearn's Python 3 Course](https://www.sololearn.com/Course/Python/)"
      ]
    }
  ]
}